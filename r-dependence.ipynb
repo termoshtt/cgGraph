{
 "cells": [
  {
   "cell_type": "code",
   "execution_count": 38,
   "metadata": {
    "collapsed": true
   },
   "outputs": [],
   "source": [
    "%matplotlib inline"
   ]
  },
  {
   "cell_type": "code",
   "execution_count": 7,
   "metadata": {
    "collapsed": true
   },
   "outputs": [],
   "source": [
    "import yaml\n",
    "import msgpack"
   ]
  },
  {
   "cell_type": "code",
   "execution_count": 15,
   "metadata": {
    "collapsed": true
   },
   "outputs": [],
   "source": [
    "from conditional_entropy import conditional_entropy, count_transition"
   ]
  },
  {
   "cell_type": "code",
   "execution_count": null,
   "metadata": {
    "collapsed": true
   },
   "outputs": [],
   "source": [
    "from tempfile import NamedTemporaryFile\n",
    "from subprocess import check_call\n",
    "\n",
    "def Lorenz(cfg):\n",
    "    with NamedTemporaryFile() as f:\n",
    "        f.write(yaml.dump(cfg))\n",
    "        f.flush()\n",
    "        check_call([\"./sample/Lorenz\", f.name])\n",
    "    with open(\"Lorenz.msg\", \"rb\") as f:\n",
    "        return msgpack.unpack(f)"
   ]
  },
  {
   "cell_type": "code",
   "execution_count": 43,
   "metadata": {
    "collapsed": false
   },
   "outputs": [],
   "source": [
    "cfg = {\n",
    "    \"dt\": 0.001,\n",
    "    \"T\" : 10000000,\n",
    "    \"interval\" : 1000\n",
    "}"
   ]
  },
  {
   "cell_type": "code",
   "execution_count": 44,
   "metadata": {
    "collapsed": false
   },
   "outputs": [
    {
     "name": "stdout",
     "output_type": "stream",
     "text": [
      "r = 16\n",
      "r = 8\n",
      "r = 4\n",
      "r = 2\n",
      "r = 1\n",
      "r = 0.5\n",
      "r = 0.25\n",
      "r = 0.125\n",
      "r = 0.0625\n",
      "r = 0.03125\n"
     ]
    }
   ],
   "source": [
    "res = []\n",
    "for n in range(10):\n",
    "    r = 2 ** (4 - n)\n",
    "    cfg[\"r\"] = r\n",
    "    indices = Lorenz(cfg)\n",
    "    p, cp = count_transition(indices)\n",
    "    res.append({\n",
    "            \"r\": r,\n",
    "            \"CE\": conditional_entropy(p, cp),\n",
    "            \"N\": len(p),\n",
    "            \"M\": len(cp) / len(p),\n",
    "    })\n",
    "    print(\"r = {}\".format(r))"
   ]
  },
  {
   "cell_type": "code",
   "execution_count": 47,
   "metadata": {
    "collapsed": false
   },
   "outputs": [],
   "source": [
    "df = pd.DataFrame(res)"
   ]
  },
  {
   "cell_type": "code",
   "execution_count": 46,
   "metadata": {
    "collapsed": false
   },
   "outputs": [
    {
     "data": {
      "image/png": "[encoded data removed]",
      "text/plain": [
       "<matplotlib.figure.Figure at 0x7f8cc8789210>"
      ]
     },
     "metadata": {},
     "output_type": "display_data"
    }
   ],
   "source": [
    "df.set_index(\"r\").plot()\n",
    "plt.yscale(\"log\")\n",
    "plt.xscale(\"log\")"
   ]
  },
  {
   "cell_type": "code",
   "execution_count": 71,
   "metadata": {
    "collapsed": false,
    "scrolled": true
   },
   "outputs": [
    {
     "name": "stdout",
     "output_type": "stream",
     "text": [
      "{'r': 0.1, 'T': 1048576, 'dt': 0.001, 'interval': 1000, 'M': 1.0057581573896353, 'CE': 0.0079367997774039516, 'N': 1042}\n",
      "{'r': 0.1, 'T': 2097152, 'dt': 0.001, 'interval': 1000, 'M': 1.017509727626459, 'CE': 0.023799044826092557, 'N': 2056}\n",
      "{'r': 0.1, 'T': 4194304, 'dt': 0.001, 'interval': 1000, 'M': 1.0261470152935372, 'CE': 0.035786049389913095, 'N': 4054}\n",
      "{'r': 0.1, 'T': 8388608, 'dt': 0.001, 'interval': 1000, 'M': 1.053878486816966, 'CE': 0.071550228242131725, 'N': 7851}\n",
      "{'r': 0.1, 'T': 16777216, 'dt': 0.001, 'interval': 1000, 'M': 1.111617467011291, 'CE': 0.14215021242536488, 'N': 14702}\n",
      "{'r': 0.1, 'T': 33554432, 'dt': 0.001, 'interval': 1000, 'M': 1.2266249565519638, 'CE': 0.26688739709306131, 'N': 25893}\n",
      "{'r': 0.1, 'T': 67108864, 'dt': 0.001, 'interval': 1000, 'M': 1.4329778237173463, 'CE': 0.45186657068607672, 'N': 42568}\n",
      "{'r': 0.1, 'T': 134217728, 'dt': 0.001, 'interval': 1000, 'M': 1.7993314171457135, 'CE': 0.7020264803304751, 'N': 64016}\n",
      "{'r': 0.1, 'T': 268435456, 'dt': 0.001, 'interval': 1000, 'M': 2.4307699391093154, 'CE': 1.0104259044111898, 'N': 86877}\n",
      "{'r': 0.1, 'T': 536870912, 'dt': 0.001, 'interval': 1000, 'M': 3.418671074987372, 'CE': 1.3337410201508864, 'N': 108885}\n"
     ]
    }
   ],
   "source": [
    "res = []\n",
    "cfg = {\n",
    "    \"dt\": 0.001,\n",
    "    \"r\" : 0.1,\n",
    "    \"interval\" : 1000\n",
    "}\n",
    "for n in range(10):\n",
    "    T = 2 ** (n + 20)\n",
    "    cfg[\"T\"] = T\n",
    "    indices = Lorenz(cfg)\n",
    "    p, cp = count_transition(indices)\n",
    "    c = cfg.copy()\n",
    "    c.update({\n",
    "            \"CE\": conditional_entropy(p, cp),\n",
    "            \"N\": len(p),\n",
    "            \"M\": len(cp) / (1.0 * len(p)),\n",
    "        })\n",
    "    res.append(c)\n",
    "    print(c)"
   ]
  },
  {
   "cell_type": "code",
   "execution_count": 64,
   "metadata": {
    "collapsed": true
   },
   "outputs": [],
   "source": [
    "df = pd.DataFrame(res).set_index(\"T\")"
   ]
  }
 ],
 "metadata": {
  "kernelspec": {
   "display_name": "Python 2",
   "language": "python",
   "name": "python2"
  },
  "language_info": {
   "codemirror_mode": {
    "name": "ipython",
    "version": 2
   },
   "file_extension": ".py",
   "mimetype": "text/x-python",
   "name": "python",
   "nbconvert_exporter": "python",
   "pygments_lexer": "ipython2",
   "version": "2.7.10"
  }
 },
 "nbformat": 4,
 "nbformat_minor": 0
}
